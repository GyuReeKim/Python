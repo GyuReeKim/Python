{
 "cells": [
  {
   "cell_type": "markdown",
   "metadata": {},
   "source": [
    "# 모든코인 상승장? 하락장?\n",
    "> 최고가와 최저가의 차이를 변동폭으로 정의할 때 (시가 + 변동폭)이 최고가 보다 높을 경우 \"상승장\", 그렇지 않은 경우 \"하락장\" 문자열을 출력하라.\n",
    "\n",
    "\n",
    "|Key Name|Description|\n",
    "|------|---|\n",
    "|opeing_price|최근 24시간 내 시작 거래금액|\n",
    "|closing_price|최근 24시간 내 마지막 거래금액|\n",
    "|min_price|최근 24시간 내 최저 거래금액|\n",
    "|max_price|최근 24시간 내 최고 거래금액|"
   ]
  },
  {
   "cell_type": "code",
   "execution_count": 5,
   "metadata": {},
   "outputs": [
    {
     "name": "stdout",
     "output_type": "stream",
     "text": [
      "BTC 상승장\n",
      "ETH 상승장\n",
      "DASH 상승장\n",
      "LTC 상승장\n",
      "ETC 상승장\n",
      "XRP 상승장\n",
      "BCH 상승장\n",
      "XMR 상승장\n",
      "ZEC 상승장\n",
      "QTUM 상승장\n",
      "BTG 상승장\n",
      "EOS 상승장\n",
      "ICX 상승장\n",
      "VET 상승장\n",
      "TRX 상승장\n",
      "ELF 상승장\n",
      "MITH 상승장\n",
      "MCO 상승장\n",
      "OMG 상승장\n",
      "KNC 상승장\n",
      "GNT 상승장\n",
      "ZIL 하락장\n",
      "ETHOS 상승장\n",
      "PAY 하락장\n",
      "WAX 상승장\n",
      "POWR 상승장\n",
      "LRC 상승장\n",
      "GTO 상승장\n",
      "STEEM 상승장\n",
      "STRAT 상승장\n",
      "ZRX 상승장\n",
      "REP 상승장\n",
      "AE 상승장\n",
      "XEM 상승장\n",
      "SNT 상승장\n",
      "ADA 상승장\n",
      "PPT 상승장\n",
      "CTXC 상승장\n",
      "CMT 상승장\n",
      "THETA 상승장\n",
      "WTC 상승장\n",
      "ITC 상승장\n",
      "TRUE 상승장\n",
      "ABT 상승장\n",
      "RNT 상승장\n",
      "PLY 상승장\n",
      "WAVES 상승장\n",
      "LINK 상승장\n",
      "ENJ 상승장\n",
      "PST 상승장\n",
      "SALT 상승장\n",
      "RDN 상승장\n",
      "LOOM 상승장\n",
      "PIVX 상승장\n",
      "INS 상승장\n",
      "BCD 상승장\n",
      "BZNT 상승장\n",
      "XLM 상승장\n",
      "OCN 상승장\n",
      "BSV 상승장\n",
      "TMTG 상승장\n",
      "BAT 상승장\n",
      "WET 상승장\n",
      "XVG 상승장\n",
      "IOST 상승장\n",
      "POLY 상승장\n",
      "HC 상승장\n",
      "ROM 상승장\n",
      "AMO 상승장\n",
      "ETZ 상승장\n",
      "ARN 상승장\n",
      "APIS 상승장\n",
      "MTL 상승장\n",
      "DACC 상승장\n",
      "DAC 상승장\n",
      "BHP 상승장\n",
      "BTT 상승장\n",
      "HDAC 상승장\n",
      "NPXS 상승장\n",
      "AUTO 상승장\n",
      "GXC 상승장\n",
      "ORBS 상승장\n",
      "VALOR 상승장\n",
      "CON 상승장\n",
      "ANKR 상승장\n",
      "MIX 상승장\n",
      "HYC 상승장\n",
      "LBA 상승장\n"
     ]
    }
   ],
   "source": [
    "import requests\n",
    "url = \"https://api.bithumb.com/public/ticker/all\"\n",
    "data = requests.get(url).json()['data']\n",
    "\n",
    "# start_price = int(data['opening_price'])\n",
    "# maximum = int(data['max_price'])\n",
    "# minimum = int(data['min_price'])\n",
    "\n",
    "# coin_range = maximum - minimum\n",
    "\n",
    "# if maximum < start_price + coin_range:\n",
    "#     print('상승장')\n",
    "# else:\n",
    "#     print('하락장')\n",
    "#         print(key, d, price)\n",
    "\n",
    "del data[\"date\"]\n",
    "\n",
    "for key, data_price in data.items():\n",
    "    for d, price in data_price.items():\n",
    "        if d == \"opening_price\":\n",
    "            open_price = price\n",
    "        elif d == \"min_price\":\n",
    "            minimum_price = price\n",
    "        elif d == \"max_price\":\n",
    "            maximum_price = price\n",
    "    \n",
    "    start_price = float(open_price)\n",
    "    maximum = float(maximum_price)\n",
    "    minimum = float(minimum_price)\n",
    "    coin_range = maximum - minimum\n",
    "    \n",
    "    if maximum < start_price + coin_range:\n",
    "        result = \"상승장\"\n",
    "    else:\n",
    "        result = \"하락장\"\n",
    "        \n",
    "    print(key + \" \" + result)\n"
   ]
  },
  {
   "cell_type": "markdown",
   "metadata": {},
   "source": [
    "# 평균점수\n",
    "> 다음 딕셔너리에서 평균 점수를 출력하라\n"
   ]
  },
  {
   "cell_type": "code",
   "execution_count": 95,
   "metadata": {},
   "outputs": [
    {
     "name": "stdout",
     "output_type": "stream",
     "text": [
      "83.25\n"
     ]
    }
   ],
   "source": [
    "student = {'python':80, 'algorithm':78, 'django':95, 'flask':80}\n",
    "\n",
    "# total_score = 0\n",
    "# for score in student.values():\n",
    "#     total_score += score\n",
    "# av_score = total_score / 4\n",
    "# print(av_score)\n",
    "\n",
    "result = 0\n",
    "for score in student.values():\n",
    "    result += score \n",
    "print(result/len(student))"
   ]
  },
  {
   "cell_type": "markdown",
   "metadata": {},
   "source": [
    "# 혈액형\n",
    "> 학생들의 혈액형(A,B,O,AB)에 대한 데이터가 리스트에 들어있다. 각 혈액형이 몇명인지 딕셔너리를 만들어 출력하라"
   ]
  },
  {
   "cell_type": "code",
   "execution_count": 96,
   "metadata": {},
   "outputs": [
    {
     "name": "stdout",
     "output_type": "stream",
     "text": [
      "{'A': 5, 'B': 2, 'O': 4, 'AB': 3}\n"
     ]
    }
   ],
   "source": [
    "blood = ['A','A','B','O','A','B','A','AB','AB','O','A','O','AB','O']\n",
    "# 1.\n",
    "# a = 0\n",
    "# b = 0\n",
    "# o = 0\n",
    "# ab = 0\n",
    "# for blood_type in blood:\n",
    "#     if blood_type == 'A':\n",
    "#         a += 1\n",
    "#     elif blood_type == 'B':\n",
    "#         b += 1\n",
    "#     elif blood_type == '0':\n",
    "#         o += 1\n",
    "#     else:\n",
    "#         ab += 1\n",
    "# student_blood = {\n",
    "#     'A': a,\n",
    "#     'B': b,\n",
    "#     'O': o,\n",
    "#     'AB': ab\n",
    "# }\n",
    "# print(student_blood)\n",
    "\n",
    "# 2. 깔끔하게\n",
    "blood_dict = {}\n",
    "\n",
    "for b in blood:\n",
    "    if b in blood_dict:\n",
    "        blood_dict[b] += 1\n",
    "    else:\n",
    "        blood_dict[b] = 1\n",
    "print(blood_dict)"
   ]
  },
  {
   "cell_type": "markdown",
   "metadata": {},
   "source": [
    "# UBD\n",
    "> movies는 영화제목이 key로 누적관객수가 value인 딕셔너리이다. \n",
    ">\n",
    "> 자전차왕 엄복동의 누적관객수는 172212명이고 172212명을 1UBD라고 할때 80UBD를 넘지 못하는 영화를 출력하라."
   ]
  },
  {
   "cell_type": "code",
   "execution_count": 97,
   "metadata": {},
   "outputs": [
    {
     "name": "stdout",
     "output_type": "stream",
     "text": [
      "7번방의선물\n",
      "괴물\n",
      "도둑들\n",
      "베테랑\n",
      "아바타\n"
     ]
    }
   ],
   "source": [
    "movies = {\n",
    "    \"7번방의선물\":12811206,\n",
    "    \"괴물\":13019740,\n",
    "    \"국제시장\":14257115,\n",
    "    \"극한직업\":16261018,\n",
    "    \"도둑들\":12983330,\n",
    "    \"명량\":17613682,\n",
    "    \"베테랑\":13414009,\n",
    "    \"신과함께-죄와벌\":14410754,\n",
    "    \"아바타\":13624328,\n",
    "    \"어벤져스:엔드게임\":13901423,\n",
    "}\n",
    "\n",
    "UBD = 172212\n",
    "\n",
    "for name, count in movies.items(): # key와 value가 둘다 필요한 경우 items()를 사용\n",
    "    if count < UBD * 80:\n",
    "        print(name)"
   ]
  }
 ],
 "metadata": {
  "kernelspec": {
   "display_name": "Python 3",
   "language": "python",
   "name": "python3"
  },
  "language_info": {
   "codemirror_mode": {
    "name": "ipython",
    "version": 3
   },
   "file_extension": ".py",
   "mimetype": "text/x-python",
   "name": "python",
   "nbconvert_exporter": "python",
   "pygments_lexer": "ipython3",
   "version": "3.7.3"
  }
 },
 "nbformat": 4,
 "nbformat_minor": 2
}
