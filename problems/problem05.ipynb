{
 "cells": [
  {
   "cell_type": "markdown",
   "metadata": {},
   "source": [
    "# 2진수\n",
    "\n",
    "> 사용자의 입력을 받아 2진수 인지 확인해주는 코드를 작성하라.\n",
    ">\n",
    "> 만약 숫자가 아닌 입력값이 들어오면 \"숫자가 아닙니다\"를 출력하라."
   ]
  },
  {
   "cell_type": "code",
   "execution_count": 224,
   "metadata": {},
   "outputs": [
    {
     "name": "stdout",
     "output_type": "stream",
     "text": [
      "1010\n",
      "2진수 입니다.\n"
     ]
    }
   ],
   "source": [
    "# 여기에 코드를 작성하시오.\n",
    "# num = int(input())\n",
    "\n",
    "# 내가 푼 것\n",
    "num = input()\n",
    "\n",
    "try:\n",
    "    user_input = int(num)\n",
    "    no_bi = '23456789'\n",
    "    for n in no_bi:\n",
    "        if n in num:\n",
    "            print('2진수가 아닙니다')\n",
    "            break\n",
    "    else:\n",
    "        print('2진수 입니다.')\n",
    "except ValueError:\n",
    "    print('숫자가 아닙니다.')\n",
    "\n",
    "\n",
    "\n",
    "# # 정답\n",
    "# num = input()\n",
    "\n",
    "# # 1번\n",
    "# if num.isdigit(): # num이 숫자니? # isdigit(): num을 숫자로 변형 가능하니?\n",
    "# #     print('숫자입니다.')\n",
    "# #     user_num = int(num) # 10을 나눠서 자리수에 숫자가 있는지 확인 가능\n",
    "#     user_num = set(num)\n",
    "#     if user_num == {'0', '1'} or user_num == {'0'} or user_num == {'1'}:\n",
    "#         print('2진수 입니다.')\n",
    "#     else:\n",
    "#         print('2진수가 아닙니다.')\n",
    "# else: # num이 숫자가 아니니?\n",
    "#     print('숫자가 아닙니다.')\n",
    "    \n",
    "    \n",
    "# # 2번\n",
    "# try:\n",
    "#     user_input = int(num)\n",
    "# except:\n",
    "#     print('숫자가 아닙니다.')"
   ]
  },
  {
   "cell_type": "markdown",
   "metadata": {},
   "source": [
    "# 불쌍한 달팽이\n",
    "\n",
    ">달팽이는 낮 시간 동안에 기둥을 올라갑니다. 하지만 밤에는 잠을 자면서 어느 정도의 거리만큼미끄러집니다. (낮 시간 동안 올라간 거리보다는 적게 미끄러집니다) 달팽이가 기둥의 꼭대기에 도달하는 날까지 걸리는 시간을 계산하면 됩니다.\n",
    "\n",
    "> 함수에 들어가야 하는 3개의 인자는 다음과 같습니다.\n",
    "- 기둥의 높이(미터)\n",
    "- 낮 시간 동안 달팽이가 올라가는 거리(미터)\n",
    "- 달팽이가 야간에 잠을 자는 동안 미끄러지는 거리(미터)\n",
    "\n",
    "```python\n",
    "snail(100, 5, 2)\n",
    "# => 33\n",
    "```"
   ]
  },
  {
   "cell_type": "code",
   "execution_count": 260,
   "metadata": {},
   "outputs": [],
   "source": [
    "# 여기에 코드를 작성하세요\n",
    "# 내가 푼 것\n",
    "import math\n",
    "def snail(height, day, night):\n",
    "    d = ((height - day) / (day - night)) + 1\n",
    "    return math.ceil(d)\n",
    "\n",
    "# # 정답\n",
    "# def snail(goal, day, night):\n",
    "#     count = 0\n",
    "#     while goal >= 0:\n",
    "#         count += 1\n",
    "#         goal -= day # goal = goal - day\n",
    "#         if goal <= 0:\n",
    "#             return count\n",
    "#         goal = goal + night\n",
    "        \n",
    "#     return count\n",
    "        "
   ]
  },
  {
   "cell_type": "code",
   "execution_count": 261,
   "metadata": {},
   "outputs": [
    {
     "name": "stdout",
     "output_type": "stream",
     "text": [
      "33\n"
     ]
    }
   ],
   "source": [
    "# 해당 코드를 통해 올바른 결과가 나오는지 확인하세요.\n",
    "print(snail(100, 5, 2))"
   ]
  },
  {
   "cell_type": "markdown",
   "metadata": {},
   "source": [
    "# 무엇이 중복일까\n",
    "\n",
    "> 다음 리스트에서 중복되는 요소만 뽑아서 새로운 리스트에 옮기시오. \n",
    "\n",
    "```python\n",
    "# 입력)\n",
    "duplicated(['a', 'b', 'c', 'b', 'd', 'm', 'n', 'n', 'b'])\n",
    "\n",
    "# 출력)\n",
    "['b', 'n']\n",
    "```"
   ]
  },
  {
   "cell_type": "code",
   "execution_count": 227,
   "metadata": {},
   "outputs": [],
   "source": [
    "# 여기에 코드를 작성하시오.\n",
    "# duplicated = ['a', 'b', 'c', 'b', 'd', 'm', 'n', 'n', 'b']\n",
    "\n",
    "# sort_dup = sorted(duplicated)\n",
    "# print(sort_dup)\n",
    "# len_dup = len(sort_dup)\n",
    "# list_dup = []\n",
    "# for i in range(len_dup):\n",
    "#     if i == 0:\n",
    "#         pass\n",
    "#     elif sort_dup[i] == sort_dup[i-1]:\n",
    "#         list_dup.append(sort_dup[i])\n",
    "# print(list(set(list_dup)))\n",
    "\n",
    "# # 내가 푼 것\n",
    "# # 1번\n",
    "# def duplicated(*args):\n",
    "#     l_args = list(args)\n",
    "#     zero_args = l_args[0]\n",
    "#     sort_list = sorted(zero_args)\n",
    "#     print(sort_list)\n",
    "    \n",
    "#     list_args = []\n",
    "#     for i in range(len(sort_list)):\n",
    "#         if i == 0:\n",
    "#             pass\n",
    "#         elif sort_list[i] == sort_list[i-1]:\n",
    "#             list_args.append(sort_list[i])\n",
    "#     return list(set(list_args))\n",
    "\n",
    "# 2번\n",
    "def duplicated(origin_list):\n",
    "    sort_list = sorted(origin_list)\n",
    "    print(sort_list)\n",
    "    \n",
    "    list_dup = []\n",
    "    for i in range(len(sort_list)):\n",
    "        if i == 0:\n",
    "            pass\n",
    "        elif sort_list[i] == sort_list[i-1]:\n",
    "            list_dup.append(sort_list[i])\n",
    "    return list(set(list_dup))\n",
    "\n",
    "\n",
    "# # 정답\n",
    "# # 1번\n",
    "# def duplicated(user_list):\n",
    "#     duplicate = []\n",
    "#     for char in user_list:\n",
    "#         if user_list.count(char) > 1 and char not in duplicate:\n",
    "#             duplicate.append(char)\n",
    "            \n",
    "#     return duplicate\n",
    "\n",
    "# # 2번\n",
    "# def duplicated(user_list):\n",
    "#     duplicate = []\n",
    "#     for char in user_list:\n",
    "#         if user_list.count(char) > 1:\n",
    "#             duplicate.append(char)\n",
    "            \n",
    "#     return list(set(duplicate))"
   ]
  },
  {
   "cell_type": "code",
   "execution_count": 232,
   "metadata": {},
   "outputs": [
    {
     "name": "stdout",
     "output_type": "stream",
     "text": [
      "['a', 'b', 'b', 'b', 'c', 'd', 'm', 'n', 'n']\n"
     ]
    },
    {
     "data": {
      "text/plain": [
       "['b', 'n']"
      ]
     },
     "execution_count": 232,
     "metadata": {},
     "output_type": "execute_result"
    }
   ],
   "source": [
    "# 해당 코드를 통해 올바른 결과가 나오는지 확인하세요.\n",
    "duplicated(['a', 'b', 'c', 'b', 'd', 'm', 'n', 'n', 'b'])"
   ]
  },
  {
   "cell_type": "markdown",
   "metadata": {},
   "source": [
    "# 편-안한 단어\n",
    "\n",
    "> (QWERTY 키보드를 사용하여 타이핑을 한다고 가정할 때) '편안한 단어'는 타이핑 할 때 **손을 번갈아 칠 수 있는 단어**를 말합니다.\n",
    ">\n",
    "> 단어를 인자로 받아 그것이 '편안한 단어'인지 여부를 True/False로 반환하는 함수를 만드세요.(모든 단어는 a ~ z까지 오름차순으로 구성된 문자열입니다.)\n",
    "\n",
    "> 문자 목록\n",
    "- 왼손: q, w, e, r, t, a, s, d, f, g, z, x, c, v, b\n",
    "- 오른손: y, u, i, o, p, h, j, k, l, n, m"
   ]
  },
  {
   "cell_type": "code",
   "execution_count": 211,
   "metadata": {},
   "outputs": [],
   "source": [
    "# 여기에 코드를 작성하세요.\n",
    "\n",
    "# left = 'qwertasdfgzxcvb'\n",
    "# right = 'yuiophjklnm'\n",
    "# words = 'qywu'\n",
    "# comf = ''\n",
    "# for w in words:\n",
    "#     if w == words[0]:\n",
    "#         comf += w\n",
    "#         print(comf)\n",
    "#     elif comf[-1] in left:\n",
    "#         if w in right:\n",
    "#             comf += w\n",
    "#             print(comf)\n",
    "#         else:\n",
    "#             print('False')\n",
    "#     else:\n",
    "#         if w in left:\n",
    "#             comf += w\n",
    "#             print(comf)\n",
    "#         else:\n",
    "#             print('False')\n",
    "# print(comf)\n",
    "\n",
    "# # 내가 푼 것\n",
    "# def comfortable_word(words):\n",
    "#     comf = ''\n",
    "#     for w in words:\n",
    "#         if w == words[0]:\n",
    "#             comf += w\n",
    "#         elif comf[-1] in left:\n",
    "#             if w in right:\n",
    "#                 comf += w\n",
    "#             else:\n",
    "#                 return False\n",
    "#         else:\n",
    "#             if w in left:\n",
    "#                 comf += w\n",
    "#             else:\n",
    "#                 return False\n",
    "#     return True\n",
    "\n",
    "# # 정답\n",
    "# # 1번\n",
    "# def comfortable_word(words):\n",
    "#     left_word = 'qwertasdfgzxcvb'\n",
    "#     right_word = 'yuiophjklnm'\n",
    "    \n",
    "#     left = True if words[0] in left_word else False\n",
    "# #     left = True # 현재의 첫 글자\n",
    "    \n",
    "#     for word in words[1:]:\n",
    "#         if word in left_word and left = True:\n",
    "#             return False\n",
    "        \n",
    "#         if word in right_word and not left: # 따로 검증하기 위해서는 elif 사용 못함.\n",
    "#             return False\n",
    "        \n",
    "#         left = not left\n",
    "#     return True\n",
    "\n",
    "# 혁준오빠코드\n",
    "def comfortable_word(word):\n",
    "    left = [\"q\", \"w\", \"e\", \"r\", \"t\", \"a\", \"s\", \"d\", \"f\", \"g\", \"z\", \"x\", \"c\", \"v\", \"b\"]\n",
    "    right = [\"y\", \"u\", \"i\", \"o\", \"p\", \"h\", \"j\", \"k\", \"l\", \"n\", \"m\"]\n",
    "    \n",
    "    type_order =''\n",
    "    \n",
    "    for char in word:\n",
    "        type_order = type_order +'l' if char in left else type_order +'r'\n",
    "        if 'll' in type_order or 'rr' in type_order:\n",
    "            return False\n",
    "    \n",
    "    return True"
   ]
  },
  {
   "cell_type": "code",
   "execution_count": 212,
   "metadata": {},
   "outputs": [
    {
     "name": "stdout",
     "output_type": "stream",
     "text": [
      "True\n",
      "False\n"
     ]
    }
   ],
   "source": [
    "# 해당 코드를 통해 올바른 결과가 나오는지 확인하세요.\n",
    "print(comfortable_word('qywu'))\n",
    "print(comfortable_word('apple'))"
   ]
  },
  {
   "cell_type": "markdown",
   "metadata": {},
   "source": [
    "# 숫자패턴\n",
    "\n",
    ">원하는 행까지 아래의 패턴을 생성하는 함수를 작성하세요. 만약 인자가 0이나 음의 정수인 경우 빈 문자열('')로 반환하세요.\n",
    "> \n",
    "> 짝수가 인수로 전달되면 패턴은 통과된 짝수보다 작은 최대 홀수까지 계속되어야 합니다.\n",
    "\n",
    "```python\n",
    "# 예시 \n",
    "print(pattern(9)):\n",
    "\n",
    "1\n",
    "333\n",
    "55555\n",
    "7777777\n",
    "999999999\n",
    "\n",
    "print(pattern(6))\n",
    "1\n",
    "333\n",
    "55555\n",
    "```\n",
    "**유의!**\n",
    "패턴에 공백은 없습니다."
   ]
  },
  {
   "cell_type": "code",
   "execution_count": 252,
   "metadata": {},
   "outputs": [],
   "source": [
    "# 여기에 코드를 작성하세요\n",
    "\n",
    "# 내가 푼 것\n",
    "def pattern(n):\n",
    "    result = ''\n",
    "    for i in range(1, n+1):\n",
    "        if i % 2:\n",
    "            result += str(i)*i + '\\n'\n",
    "    return result\n",
    "\n",
    "# # 정답\n",
    "# # 1번\n",
    "# def pattern(num):\n",
    "#     result = ''\n",
    "#     if not num % 2:\n",
    "#         num -= 1\n",
    "        \n",
    "#     for i in range(1, num+1):\n",
    "#         if i % 2:\n",
    "#             result += str(i) * i + '\\n'\n",
    "#     return result\n",
    "\n",
    "# # 2번\n",
    "# def pattern(num):\n",
    "#     result = ''\n",
    "#     if not num % 2:\n",
    "#         num -= 1\n",
    "        \n",
    "#     for i in range(1, num+1, 2):\n",
    "#             result += str(i) * i + '\\n'\n",
    "#     return result"
   ]
  },
  {
   "cell_type": "code",
   "execution_count": 253,
   "metadata": {},
   "outputs": [
    {
     "name": "stdout",
     "output_type": "stream",
     "text": [
      "1\n",
      "333\n",
      "55555\n",
      "7777777\n",
      "999999999\n",
      "\n",
      "1\n",
      "333\n",
      "55555\n",
      "\n"
     ]
    }
   ],
   "source": [
    "# 해당 코드를 통해 올바른 결과가 나오는지 확인하세요.\n",
    "print(pattern(9))\n",
    "print(pattern(6))"
   ]
  }
 ],
 "metadata": {
  "kernelspec": {
   "display_name": "Python 3",
   "language": "python",
   "name": "python3"
  },
  "language_info": {
   "codemirror_mode": {
    "name": "ipython",
    "version": 3
   },
   "file_extension": ".py",
   "mimetype": "text/x-python",
   "name": "python",
   "nbconvert_exporter": "python",
   "pygments_lexer": "ipython3",
   "version": "3.7.3"
  }
 },
 "nbformat": 4,
 "nbformat_minor": 2
}
